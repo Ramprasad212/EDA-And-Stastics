{
 "cells": [
  {
   "cell_type": "markdown",
   "id": "f298c741",
   "metadata": {},
   "source": [
    "# Regular Expressions\n",
    "\n",
    "- Regular expressions or RegEx is used to extract required data from given text by identifying the common pattern\n",
    "- We can apply this regex only on text data"
   ]
  },
  {
   "cell_type": "code",
   "execution_count": 1,
   "id": "6f5a5846",
   "metadata": {},
   "outputs": [],
   "source": [
    "text = \"Python is an#### object@@@ oriented programming language???\""
   ]
  },
  {
   "cell_type": "code",
   "execution_count": 5,
   "id": "b9643691",
   "metadata": {},
   "outputs": [
    {
     "data": {
      "text/plain": [
       "'Python is an object oriented programming language'"
      ]
     },
     "execution_count": 5,
     "metadata": {},
     "output_type": "execute_result"
    }
   ],
   "source": [
    "a = text.replace(\"#\",\"\")\n",
    "b = a.replace(\"@\",\"\")\n",
    "b.replace(\"?\",\"\")"
   ]
  },
  {
   "cell_type": "code",
   "execution_count": 6,
   "id": "fd100265",
   "metadata": {},
   "outputs": [
    {
     "data": {
      "text/plain": [
       "'Python is an object oriented programming language'"
      ]
     },
     "execution_count": 6,
     "metadata": {},
     "output_type": "execute_result"
    }
   ],
   "source": [
    "text.replace(\"#\",\"\").replace(\"@\",\"\").replace(\"?\",\"\")"
   ]
  },
  {
   "cell_type": "code",
   "execution_count": null,
   "id": "93209a1a",
   "metadata": {},
   "outputs": [],
   "source": []
  },
  {
   "cell_type": "code",
   "execution_count": 10,
   "id": "ce1e2e32",
   "metadata": {},
   "outputs": [],
   "source": [
    "lst = [\"#\",\"@\",\"?\"]\n",
    "result = []\n",
    "for i in text:\n",
    "    if i not in lst:\n",
    "        result.append(i)"
   ]
  },
  {
   "cell_type": "code",
   "execution_count": 11,
   "id": "73a56519",
   "metadata": {},
   "outputs": [
    {
     "name": "stdout",
     "output_type": "stream",
     "text": [
      "['P', 'y', 't', 'h', 'o', 'n', ' ', 'i', 's', ' ', 'a', 'n', ' ', 'o', 'b', 'j', 'e', 'c', 't', ' ', 'o', 'r', 'i', 'e', 'n', 't', 'e', 'd', ' ', 'p', 'r', 'o', 'g', 'r', 'a', 'm', 'm', 'i', 'n', 'g', ' ', 'l', 'a', 'n', 'g', 'u', 'a', 'g', 'e']\n"
     ]
    }
   ],
   "source": [
    "print(result)"
   ]
  },
  {
   "cell_type": "code",
   "execution_count": 12,
   "id": "4ad58e5b",
   "metadata": {},
   "outputs": [
    {
     "data": {
      "text/plain": [
       "'Python is an object oriented programming language'"
      ]
     },
     "execution_count": 12,
     "metadata": {},
     "output_type": "execute_result"
    }
   ],
   "source": [
    "\"\".join(result)"
   ]
  },
  {
   "cell_type": "code",
   "execution_count": 13,
   "id": "423ec531",
   "metadata": {},
   "outputs": [],
   "source": [
    "lst = [\"#\",\"@\",\"?\"]\n",
    "result = \"\"\n",
    "for i in text:\n",
    "    if i not in lst:\n",
    "        result = result+i"
   ]
  },
  {
   "cell_type": "code",
   "execution_count": 14,
   "id": "1f484bf2",
   "metadata": {},
   "outputs": [
    {
     "data": {
      "text/plain": [
       "'Python is an object oriented programming language'"
      ]
     },
     "execution_count": 14,
     "metadata": {},
     "output_type": "execute_result"
    }
   ],
   "source": [
    "result"
   ]
  },
  {
   "cell_type": "code",
   "execution_count": null,
   "id": "ee2d6615",
   "metadata": {},
   "outputs": [],
   "source": []
  },
  {
   "cell_type": "code",
   "execution_count": 15,
   "id": "76b1f6cb",
   "metadata": {},
   "outputs": [],
   "source": [
    "import re"
   ]
  },
  {
   "cell_type": "code",
   "execution_count": 16,
   "id": "6623ca6d",
   "metadata": {},
   "outputs": [
    {
     "data": {
      "text/plain": [
       "'Python is an object oriented programming language'"
      ]
     },
     "execution_count": 16,
     "metadata": {},
     "output_type": "execute_result"
    }
   ],
   "source": [
    "re.sub(\"[#@?]\",\"\",text)"
   ]
  },
  {
   "cell_type": "markdown",
   "id": "42bedc0a",
   "metadata": {},
   "source": [
    "# Meta characters\n",
    "\n",
    "- \\w - alphanumeric data\n",
    "- \\W - Special characters\n",
    "- \\d - Digits / numbers\n",
    "- \\b - boundary\n",
    "- \\s - spaces\n",
    "- `.`\n",
    "- `*`\n",
    "- `+`\n",
    "- ()\n",
    "- []\n",
    "- {}"
   ]
  },
  {
   "cell_type": "code",
   "execution_count": 27,
   "id": "0b1926dd",
   "metadata": {},
   "outputs": [],
   "source": [
    "text = \"\"\"Python is an interpreted, 1234 object-oriented, high-level programming language with \n",
    "dynamic semantics. Its high-level built in 5678 data structures, combined with dynamic typing and \n",
    "dynamic binding, make it very attractive for Rapid Application Development, as well as for use \n",
    "as a scripting or glue language to connect existing components together. Python's simple, easy \n",
    "to learn syntax emphasizes readability and therefore reduces the cost of program maintenance. \n",
    "Python supports modules and packages, which encourages program modularity and code reuse. The \n",
    "Python interpreter and the extensive standard library are available in source or binary form \n",
    "without charge for all major platforms, and can be freely distributed.\"\"\""
   ]
  },
  {
   "cell_type": "code",
   "execution_count": 28,
   "id": "eaa2c46d",
   "metadata": {},
   "outputs": [
    {
     "name": "stdout",
     "output_type": "stream",
     "text": [
      "['P', 'y', 't', 'h', 'o', 'n', ' ', 'i', 's', ' ', 'a', 'n', ' ', 'i', 'n', 't', 'e', 'r', 'p', 'r', 'e', 't', 'e', 'd', ',', ' ', '1', '2', '3', '4', ' ', 'o', 'b', 'j', 'e', 'c', 't', '-', 'o', 'r', 'i', 'e', 'n', 't', 'e', 'd', ',', ' ', 'h', 'i', 'g', 'h', '-', 'l', 'e', 'v', 'e', 'l', ' ', 'p', 'r', 'o', 'g', 'r', 'a', 'm', 'm', 'i', 'n', 'g', ' ', 'l', 'a', 'n', 'g', 'u', 'a', 'g', 'e', ' ', 'w', 'i', 't', 'h', ' ', '\\n', 'd', 'y', 'n', 'a', 'm', 'i', 'c', ' ', 's', 'e', 'm', 'a', 'n', 't', 'i', 'c', 's', '.', ' ', 'I', 't', 's', ' ', 'h', 'i', 'g', 'h', '-', 'l', 'e', 'v', 'e', 'l', ' ', 'b', 'u', 'i', 'l', 't', ' ', 'i', 'n', ' ', '5', '6', '7', '8', ' ', 'd', 'a', 't', 'a', ' ', 's', 't', 'r', 'u', 'c', 't', 'u', 'r', 'e', 's', ',', ' ', 'c', 'o', 'm', 'b', 'i', 'n', 'e', 'd', ' ', 'w', 'i', 't', 'h', ' ', 'd', 'y', 'n', 'a', 'm', 'i', 'c', ' ', 't', 'y', 'p', 'i', 'n', 'g', ' ', 'a', 'n', 'd', ' ', '\\n', 'd', 'y', 'n', 'a', 'm', 'i', 'c', ' ', 'b', 'i', 'n', 'd', 'i', 'n', 'g', ',', ' ', 'm', 'a', 'k', 'e', ' ', 'i', 't', ' ', 'v', 'e', 'r', 'y', ' ', 'a', 't', 't', 'r', 'a', 'c', 't', 'i', 'v', 'e', ' ', 'f', 'o', 'r', ' ', 'R', 'a', 'p', 'i', 'd', ' ', 'A', 'p', 'p', 'l', 'i', 'c', 'a', 't', 'i', 'o', 'n', ' ', 'D', 'e', 'v', 'e', 'l', 'o', 'p', 'm', 'e', 'n', 't', ',', ' ', 'a', 's', ' ', 'w', 'e', 'l', 'l', ' ', 'a', 's', ' ', 'f', 'o', 'r', ' ', 'u', 's', 'e', ' ', '\\n', 'a', 's', ' ', 'a', ' ', 's', 'c', 'r', 'i', 'p', 't', 'i', 'n', 'g', ' ', 'o', 'r', ' ', 'g', 'l', 'u', 'e', ' ', 'l', 'a', 'n', 'g', 'u', 'a', 'g', 'e', ' ', 't', 'o', ' ', 'c', 'o', 'n', 'n', 'e', 'c', 't', ' ', 'e', 'x', 'i', 's', 't', 'i', 'n', 'g', ' ', 'c', 'o', 'm', 'p', 'o', 'n', 'e', 'n', 't', 's', ' ', 't', 'o', 'g', 'e', 't', 'h', 'e', 'r', '.', ' ', 'P', 'y', 't', 'h', 'o', 'n', \"'\", 's', ' ', 's', 'i', 'm', 'p', 'l', 'e', ',', ' ', 'e', 'a', 's', 'y', ' ', '\\n', 't', 'o', ' ', 'l', 'e', 'a', 'r', 'n', ' ', 's', 'y', 'n', 't', 'a', 'x', ' ', 'e', 'm', 'p', 'h', 'a', 's', 'i', 'z', 'e', 's', ' ', 'r', 'e', 'a', 'd', 'a', 'b', 'i', 'l', 'i', 't', 'y', ' ', 'a', 'n', 'd', ' ', 't', 'h', 'e', 'r', 'e', 'f', 'o', 'r', 'e', ' ', 'r', 'e', 'd', 'u', 'c', 'e', 's', ' ', 't', 'h', 'e', ' ', 'c', 'o', 's', 't', ' ', 'o', 'f', ' ', 'p', 'r', 'o', 'g', 'r', 'a', 'm', ' ', 'm', 'a', 'i', 'n', 't', 'e', 'n', 'a', 'n', 'c', 'e', '.', ' ', '\\n', 'P', 'y', 't', 'h', 'o', 'n', ' ', 's', 'u', 'p', 'p', 'o', 'r', 't', 's', ' ', 'm', 'o', 'd', 'u', 'l', 'e', 's', ' ', 'a', 'n', 'd', ' ', 'p', 'a', 'c', 'k', 'a', 'g', 'e', 's', ',', ' ', 'w', 'h', 'i', 'c', 'h', ' ', 'e', 'n', 'c', 'o', 'u', 'r', 'a', 'g', 'e', 's', ' ', 'p', 'r', 'o', 'g', 'r', 'a', 'm', ' ', 'm', 'o', 'd', 'u', 'l', 'a', 'r', 'i', 't', 'y', ' ', 'a', 'n', 'd', ' ', 'c', 'o', 'd', 'e', ' ', 'r', 'e', 'u', 's', 'e', '.', ' ', 'T', 'h', 'e', ' ', '\\n', 'P', 'y', 't', 'h', 'o', 'n', ' ', 'i', 'n', 't', 'e', 'r', 'p', 'r', 'e', 't', 'e', 'r', ' ', 'a', 'n', 'd', ' ', 't', 'h', 'e', ' ', 'e', 'x', 't', 'e', 'n', 's', 'i', 'v', 'e', ' ', 's', 't', 'a', 'n', 'd', 'a', 'r', 'd', ' ', 'l', 'i', 'b', 'r', 'a', 'r', 'y', ' ', 'a', 'r', 'e', ' ', 'a', 'v', 'a', 'i', 'l', 'a', 'b', 'l', 'e', ' ', 'i', 'n', ' ', 's', 'o', 'u', 'r', 'c', 'e', ' ', 'o', 'r', ' ', 'b', 'i', 'n', 'a', 'r', 'y', ' ', 'f', 'o', 'r', 'm', ' ', '\\n', 'w', 'i', 't', 'h', 'o', 'u', 't', ' ', 'c', 'h', 'a', 'r', 'g', 'e', ' ', 'f', 'o', 'r', ' ', 'a', 'l', 'l', ' ', 'm', 'a', 'j', 'o', 'r', ' ', 'p', 'l', 'a', 't', 'f', 'o', 'r', 'm', 's', ',', ' ', 'a', 'n', 'd', ' ', 'c', 'a', 'n', ' ', 'b', 'e', ' ', 'f', 'r', 'e', 'e', 'l', 'y', ' ', 'd', 'i', 's', 't', 'r', 'i', 'b', 'u', 't', 'e', 'd', '.']\n"
     ]
    }
   ],
   "source": [
    "print(list(text))"
   ]
  },
  {
   "cell_type": "code",
   "execution_count": 29,
   "id": "34fde65f",
   "metadata": {},
   "outputs": [
    {
     "name": "stdout",
     "output_type": "stream",
     "text": [
      "P\n",
      "y\n",
      "t\n",
      "h\n",
      "o\n",
      "n\n",
      " \n",
      "i\n",
      "s\n",
      " \n",
      "a\n",
      "n\n",
      " \n",
      "i\n",
      "n\n",
      "t\n",
      "e\n",
      "r\n",
      "p\n",
      "r\n",
      "e\n",
      "t\n",
      "e\n",
      "d\n",
      ",\n",
      " \n",
      "1\n",
      "2\n",
      "3\n",
      "4\n",
      " \n",
      "o\n",
      "b\n",
      "j\n",
      "e\n",
      "c\n",
      "t\n",
      "-\n",
      "o\n",
      "r\n",
      "i\n",
      "e\n",
      "n\n",
      "t\n",
      "e\n",
      "d\n",
      ",\n",
      " \n",
      "h\n",
      "i\n",
      "g\n",
      "h\n",
      "-\n",
      "l\n",
      "e\n",
      "v\n",
      "e\n",
      "l\n",
      " \n",
      "p\n",
      "r\n",
      "o\n",
      "g\n",
      "r\n",
      "a\n",
      "m\n",
      "m\n",
      "i\n",
      "n\n",
      "g\n",
      " \n",
      "l\n",
      "a\n",
      "n\n",
      "g\n",
      "u\n",
      "a\n",
      "g\n",
      "e\n",
      " \n",
      "w\n",
      "i\n",
      "t\n",
      "h\n",
      " \n",
      "\n",
      "\n",
      "d\n",
      "y\n",
      "n\n",
      "a\n",
      "m\n",
      "i\n",
      "c\n",
      " \n",
      "s\n",
      "e\n",
      "m\n",
      "a\n",
      "n\n",
      "t\n",
      "i\n",
      "c\n",
      "s\n",
      ".\n",
      " \n",
      "I\n",
      "t\n",
      "s\n",
      " \n",
      "h\n",
      "i\n",
      "g\n",
      "h\n",
      "-\n",
      "l\n",
      "e\n",
      "v\n",
      "e\n",
      "l\n",
      " \n",
      "b\n",
      "u\n",
      "i\n",
      "l\n",
      "t\n",
      " \n",
      "i\n",
      "n\n",
      " \n",
      "5\n",
      "6\n",
      "7\n",
      "8\n",
      " \n",
      "d\n",
      "a\n",
      "t\n",
      "a\n",
      " \n",
      "s\n",
      "t\n",
      "r\n",
      "u\n",
      "c\n",
      "t\n",
      "u\n",
      "r\n",
      "e\n",
      "s\n",
      ",\n",
      " \n",
      "c\n",
      "o\n",
      "m\n",
      "b\n",
      "i\n",
      "n\n",
      "e\n",
      "d\n",
      " \n",
      "w\n",
      "i\n",
      "t\n",
      "h\n",
      " \n",
      "d\n",
      "y\n",
      "n\n",
      "a\n",
      "m\n",
      "i\n",
      "c\n",
      " \n",
      "t\n",
      "y\n",
      "p\n",
      "i\n",
      "n\n",
      "g\n",
      " \n",
      "a\n",
      "n\n",
      "d\n",
      " \n",
      "\n",
      "\n",
      "d\n",
      "y\n",
      "n\n",
      "a\n",
      "m\n",
      "i\n",
      "c\n",
      " \n",
      "b\n",
      "i\n",
      "n\n",
      "d\n",
      "i\n",
      "n\n",
      "g\n",
      ",\n",
      " \n",
      "m\n",
      "a\n",
      "k\n",
      "e\n",
      " \n",
      "i\n",
      "t\n",
      " \n",
      "v\n",
      "e\n",
      "r\n",
      "y\n",
      " \n",
      "a\n",
      "t\n",
      "t\n",
      "r\n",
      "a\n",
      "c\n",
      "t\n",
      "i\n",
      "v\n",
      "e\n",
      " \n",
      "f\n",
      "o\n",
      "r\n",
      " \n",
      "R\n",
      "a\n",
      "p\n",
      "i\n",
      "d\n",
      " \n",
      "A\n",
      "p\n",
      "p\n",
      "l\n",
      "i\n",
      "c\n",
      "a\n",
      "t\n",
      "i\n",
      "o\n",
      "n\n",
      " \n",
      "D\n",
      "e\n",
      "v\n",
      "e\n",
      "l\n",
      "o\n",
      "p\n",
      "m\n",
      "e\n",
      "n\n",
      "t\n",
      ",\n",
      " \n",
      "a\n",
      "s\n",
      " \n",
      "w\n",
      "e\n",
      "l\n",
      "l\n",
      " \n",
      "a\n",
      "s\n",
      " \n",
      "f\n",
      "o\n",
      "r\n",
      " \n",
      "u\n",
      "s\n",
      "e\n",
      " \n",
      "\n",
      "\n",
      "a\n",
      "s\n",
      " \n",
      "a\n",
      " \n",
      "s\n",
      "c\n",
      "r\n",
      "i\n",
      "p\n",
      "t\n",
      "i\n",
      "n\n",
      "g\n",
      " \n",
      "o\n",
      "r\n",
      " \n",
      "g\n",
      "l\n",
      "u\n",
      "e\n",
      " \n",
      "l\n",
      "a\n",
      "n\n",
      "g\n",
      "u\n",
      "a\n",
      "g\n",
      "e\n",
      " \n",
      "t\n",
      "o\n",
      " \n",
      "c\n",
      "o\n",
      "n\n",
      "n\n",
      "e\n",
      "c\n",
      "t\n",
      " \n",
      "e\n",
      "x\n",
      "i\n",
      "s\n",
      "t\n",
      "i\n",
      "n\n",
      "g\n",
      " \n",
      "c\n",
      "o\n",
      "m\n",
      "p\n",
      "o\n",
      "n\n",
      "e\n",
      "n\n",
      "t\n",
      "s\n",
      " \n",
      "t\n",
      "o\n",
      "g\n",
      "e\n",
      "t\n",
      "h\n",
      "e\n",
      "r\n",
      ".\n",
      " \n",
      "P\n",
      "y\n",
      "t\n",
      "h\n",
      "o\n",
      "n\n",
      "'\n",
      "s\n",
      " \n",
      "s\n",
      "i\n",
      "m\n",
      "p\n",
      "l\n",
      "e\n",
      ",\n",
      " \n",
      "e\n",
      "a\n",
      "s\n",
      "y\n",
      " \n",
      "\n",
      "\n",
      "t\n",
      "o\n",
      " \n",
      "l\n",
      "e\n",
      "a\n",
      "r\n",
      "n\n",
      " \n",
      "s\n",
      "y\n",
      "n\n",
      "t\n",
      "a\n",
      "x\n",
      " \n",
      "e\n",
      "m\n",
      "p\n",
      "h\n",
      "a\n",
      "s\n",
      "i\n",
      "z\n",
      "e\n",
      "s\n",
      " \n",
      "r\n",
      "e\n",
      "a\n",
      "d\n",
      "a\n",
      "b\n",
      "i\n",
      "l\n",
      "i\n",
      "t\n",
      "y\n",
      " \n",
      "a\n",
      "n\n",
      "d\n",
      " \n",
      "t\n",
      "h\n",
      "e\n",
      "r\n",
      "e\n",
      "f\n",
      "o\n",
      "r\n",
      "e\n",
      " \n",
      "r\n",
      "e\n",
      "d\n",
      "u\n",
      "c\n",
      "e\n",
      "s\n",
      " \n",
      "t\n",
      "h\n",
      "e\n",
      " \n",
      "c\n",
      "o\n",
      "s\n",
      "t\n",
      " \n",
      "o\n",
      "f\n",
      " \n",
      "p\n",
      "r\n",
      "o\n",
      "g\n",
      "r\n",
      "a\n",
      "m\n",
      " \n",
      "m\n",
      "a\n",
      "i\n",
      "n\n",
      "t\n",
      "e\n",
      "n\n",
      "a\n",
      "n\n",
      "c\n",
      "e\n",
      ".\n",
      " \n",
      "\n",
      "\n",
      "P\n",
      "y\n",
      "t\n",
      "h\n",
      "o\n",
      "n\n",
      " \n",
      "s\n",
      "u\n",
      "p\n",
      "p\n",
      "o\n",
      "r\n",
      "t\n",
      "s\n",
      " \n",
      "m\n",
      "o\n",
      "d\n",
      "u\n",
      "l\n",
      "e\n",
      "s\n",
      " \n",
      "a\n",
      "n\n",
      "d\n",
      " \n",
      "p\n",
      "a\n",
      "c\n",
      "k\n",
      "a\n",
      "g\n",
      "e\n",
      "s\n",
      ",\n",
      " \n",
      "w\n",
      "h\n",
      "i\n",
      "c\n",
      "h\n",
      " \n",
      "e\n",
      "n\n",
      "c\n",
      "o\n",
      "u\n",
      "r\n",
      "a\n",
      "g\n",
      "e\n",
      "s\n",
      " \n",
      "p\n",
      "r\n",
      "o\n",
      "g\n",
      "r\n",
      "a\n",
      "m\n",
      " \n",
      "m\n",
      "o\n",
      "d\n",
      "u\n",
      "l\n",
      "a\n",
      "r\n",
      "i\n",
      "t\n",
      "y\n",
      " \n",
      "a\n",
      "n\n",
      "d\n",
      " \n",
      "c\n",
      "o\n",
      "d\n",
      "e\n",
      " \n",
      "r\n",
      "e\n",
      "u\n",
      "s\n",
      "e\n",
      ".\n",
      " \n",
      "T\n",
      "h\n",
      "e\n",
      " \n",
      "\n",
      "\n",
      "P\n",
      "y\n",
      "t\n",
      "h\n",
      "o\n",
      "n\n",
      " \n",
      "i\n",
      "n\n",
      "t\n",
      "e\n",
      "r\n",
      "p\n",
      "r\n",
      "e\n",
      "t\n",
      "e\n",
      "r\n",
      " \n",
      "a\n",
      "n\n",
      "d\n",
      " \n",
      "t\n",
      "h\n",
      "e\n",
      " \n",
      "e\n",
      "x\n",
      "t\n",
      "e\n",
      "n\n",
      "s\n",
      "i\n",
      "v\n",
      "e\n",
      " \n",
      "s\n",
      "t\n",
      "a\n",
      "n\n",
      "d\n",
      "a\n",
      "r\n",
      "d\n",
      " \n",
      "l\n",
      "i\n",
      "b\n",
      "r\n",
      "a\n",
      "r\n",
      "y\n",
      " \n",
      "a\n",
      "r\n",
      "e\n",
      " \n",
      "a\n",
      "v\n",
      "a\n",
      "i\n",
      "l\n",
      "a\n",
      "b\n",
      "l\n",
      "e\n",
      " \n",
      "i\n",
      "n\n",
      " \n",
      "s\n",
      "o\n",
      "u\n",
      "r\n",
      "c\n",
      "e\n",
      " \n",
      "o\n",
      "r\n",
      " \n",
      "b\n",
      "i\n",
      "n\n",
      "a\n",
      "r\n",
      "y\n",
      " \n",
      "f\n",
      "o\n",
      "r\n",
      "m\n",
      " \n",
      "\n",
      "\n",
      "w\n",
      "i\n",
      "t\n",
      "h\n",
      "o\n",
      "u\n",
      "t\n",
      " \n",
      "c\n",
      "h\n",
      "a\n",
      "r\n",
      "g\n",
      "e\n",
      " \n",
      "f\n",
      "o\n",
      "r\n",
      " \n",
      "a\n",
      "l\n",
      "l\n",
      " \n",
      "m\n",
      "a\n",
      "j\n",
      "o\n",
      "r\n",
      " \n",
      "p\n",
      "l\n",
      "a\n",
      "t\n",
      "f\n",
      "o\n",
      "r\n",
      "m\n",
      "s\n",
      ",\n",
      " \n",
      "a\n",
      "n\n",
      "d\n",
      " \n",
      "c\n",
      "a\n",
      "n\n",
      " \n",
      "b\n",
      "e\n",
      " \n",
      "f\n",
      "r\n",
      "e\n",
      "e\n",
      "l\n",
      "y\n",
      " \n",
      "d\n",
      "i\n",
      "s\n",
      "t\n",
      "r\n",
      "i\n",
      "b\n",
      "u\n",
      "t\n",
      "e\n",
      "d\n",
      ".\n"
     ]
    }
   ],
   "source": [
    "for i in text:\n",
    "    print(i)"
   ]
  },
  {
   "cell_type": "markdown",
   "id": "a722b2f6",
   "metadata": {},
   "source": [
    "# findall()\n",
    "\n",
    "- re.findall( pattern, text )"
   ]
  },
  {
   "cell_type": "code",
   "execution_count": 30,
   "id": "2129030f",
   "metadata": {},
   "outputs": [
    {
     "name": "stdout",
     "output_type": "stream",
     "text": [
      "['P', 'y', 't', 'h', 'o', 'n', 'i', 's', 'a', 'n', 'i', 'n', 't', 'e', 'r', 'p', 'r', 'e', 't', 'e', 'd', '1', '2', '3', '4', 'o', 'b', 'j', 'e', 'c', 't', 'o', 'r', 'i', 'e', 'n', 't', 'e', 'd', 'h', 'i', 'g', 'h', 'l', 'e', 'v', 'e', 'l', 'p', 'r', 'o', 'g', 'r', 'a', 'm', 'm', 'i', 'n', 'g', 'l', 'a', 'n', 'g', 'u', 'a', 'g', 'e', 'w', 'i', 't', 'h', 'd', 'y', 'n', 'a', 'm', 'i', 'c', 's', 'e', 'm', 'a', 'n', 't', 'i', 'c', 's', 'I', 't', 's', 'h', 'i', 'g', 'h', 'l', 'e', 'v', 'e', 'l', 'b', 'u', 'i', 'l', 't', 'i', 'n', '5', '6', '7', '8', 'd', 'a', 't', 'a', 's', 't', 'r', 'u', 'c', 't', 'u', 'r', 'e', 's', 'c', 'o', 'm', 'b', 'i', 'n', 'e', 'd', 'w', 'i', 't', 'h', 'd', 'y', 'n', 'a', 'm', 'i', 'c', 't', 'y', 'p', 'i', 'n', 'g', 'a', 'n', 'd', 'd', 'y', 'n', 'a', 'm', 'i', 'c', 'b', 'i', 'n', 'd', 'i', 'n', 'g', 'm', 'a', 'k', 'e', 'i', 't', 'v', 'e', 'r', 'y', 'a', 't', 't', 'r', 'a', 'c', 't', 'i', 'v', 'e', 'f', 'o', 'r', 'R', 'a', 'p', 'i', 'd', 'A', 'p', 'p', 'l', 'i', 'c', 'a', 't', 'i', 'o', 'n', 'D', 'e', 'v', 'e', 'l', 'o', 'p', 'm', 'e', 'n', 't', 'a', 's', 'w', 'e', 'l', 'l', 'a', 's', 'f', 'o', 'r', 'u', 's', 'e', 'a', 's', 'a', 's', 'c', 'r', 'i', 'p', 't', 'i', 'n', 'g', 'o', 'r', 'g', 'l', 'u', 'e', 'l', 'a', 'n', 'g', 'u', 'a', 'g', 'e', 't', 'o', 'c', 'o', 'n', 'n', 'e', 'c', 't', 'e', 'x', 'i', 's', 't', 'i', 'n', 'g', 'c', 'o', 'm', 'p', 'o', 'n', 'e', 'n', 't', 's', 't', 'o', 'g', 'e', 't', 'h', 'e', 'r', 'P', 'y', 't', 'h', 'o', 'n', 's', 's', 'i', 'm', 'p', 'l', 'e', 'e', 'a', 's', 'y', 't', 'o', 'l', 'e', 'a', 'r', 'n', 's', 'y', 'n', 't', 'a', 'x', 'e', 'm', 'p', 'h', 'a', 's', 'i', 'z', 'e', 's', 'r', 'e', 'a', 'd', 'a', 'b', 'i', 'l', 'i', 't', 'y', 'a', 'n', 'd', 't', 'h', 'e', 'r', 'e', 'f', 'o', 'r', 'e', 'r', 'e', 'd', 'u', 'c', 'e', 's', 't', 'h', 'e', 'c', 'o', 's', 't', 'o', 'f', 'p', 'r', 'o', 'g', 'r', 'a', 'm', 'm', 'a', 'i', 'n', 't', 'e', 'n', 'a', 'n', 'c', 'e', 'P', 'y', 't', 'h', 'o', 'n', 's', 'u', 'p', 'p', 'o', 'r', 't', 's', 'm', 'o', 'd', 'u', 'l', 'e', 's', 'a', 'n', 'd', 'p', 'a', 'c', 'k', 'a', 'g', 'e', 's', 'w', 'h', 'i', 'c', 'h', 'e', 'n', 'c', 'o', 'u', 'r', 'a', 'g', 'e', 's', 'p', 'r', 'o', 'g', 'r', 'a', 'm', 'm', 'o', 'd', 'u', 'l', 'a', 'r', 'i', 't', 'y', 'a', 'n', 'd', 'c', 'o', 'd', 'e', 'r', 'e', 'u', 's', 'e', 'T', 'h', 'e', 'P', 'y', 't', 'h', 'o', 'n', 'i', 'n', 't', 'e', 'r', 'p', 'r', 'e', 't', 'e', 'r', 'a', 'n', 'd', 't', 'h', 'e', 'e', 'x', 't', 'e', 'n', 's', 'i', 'v', 'e', 's', 't', 'a', 'n', 'd', 'a', 'r', 'd', 'l', 'i', 'b', 'r', 'a', 'r', 'y', 'a', 'r', 'e', 'a', 'v', 'a', 'i', 'l', 'a', 'b', 'l', 'e', 'i', 'n', 's', 'o', 'u', 'r', 'c', 'e', 'o', 'r', 'b', 'i', 'n', 'a', 'r', 'y', 'f', 'o', 'r', 'm', 'w', 'i', 't', 'h', 'o', 'u', 't', 'c', 'h', 'a', 'r', 'g', 'e', 'f', 'o', 'r', 'a', 'l', 'l', 'm', 'a', 'j', 'o', 'r', 'p', 'l', 'a', 't', 'f', 'o', 'r', 'm', 's', 'a', 'n', 'd', 'c', 'a', 'n', 'b', 'e', 'f', 'r', 'e', 'e', 'l', 'y', 'd', 'i', 's', 't', 'r', 'i', 'b', 'u', 't', 'e', 'd']\n"
     ]
    }
   ],
   "source": [
    "print(re.findall(\"\\w\",text))"
   ]
  },
  {
   "cell_type": "code",
   "execution_count": 31,
   "id": "3a42b8d0",
   "metadata": {},
   "outputs": [
    {
     "name": "stdout",
     "output_type": "stream",
     "text": [
      "['Py', 'th', 'on', 'is', 'an', 'in', 'te', 'rp', 're', 'te', '12', '34', 'ob', 'je', 'ct', 'or', 'ie', 'nt', 'ed', 'hi', 'gh', 'le', 've', 'pr', 'og', 'ra', 'mm', 'in', 'la', 'ng', 'ua', 'ge', 'wi', 'th', 'dy', 'na', 'mi', 'se', 'ma', 'nt', 'ic', 'It', 'hi', 'gh', 'le', 've', 'bu', 'il', 'in', '56', '78', 'da', 'ta', 'st', 'ru', 'ct', 'ur', 'es', 'co', 'mb', 'in', 'ed', 'wi', 'th', 'dy', 'na', 'mi', 'ty', 'pi', 'ng', 'an', 'dy', 'na', 'mi', 'bi', 'nd', 'in', 'ma', 'ke', 'it', 've', 'ry', 'at', 'tr', 'ac', 'ti', 've', 'fo', 'Ra', 'pi', 'Ap', 'pl', 'ic', 'at', 'io', 'De', 've', 'lo', 'pm', 'en', 'as', 'we', 'll', 'as', 'fo', 'us', 'as', 'sc', 'ri', 'pt', 'in', 'or', 'gl', 'ue', 'la', 'ng', 'ua', 'ge', 'to', 'co', 'nn', 'ec', 'ex', 'is', 'ti', 'ng', 'co', 'mp', 'on', 'en', 'ts', 'to', 'ge', 'th', 'er', 'Py', 'th', 'on', 'si', 'mp', 'le', 'ea', 'sy', 'to', 'le', 'ar', 'sy', 'nt', 'ax', 'em', 'ph', 'as', 'iz', 'es', 're', 'ad', 'ab', 'il', 'it', 'an', 'th', 'er', 'ef', 'or', 're', 'du', 'ce', 'th', 'co', 'st', 'of', 'pr', 'og', 'ra', 'ma', 'in', 'te', 'na', 'nc', 'Py', 'th', 'on', 'su', 'pp', 'or', 'ts', 'mo', 'du', 'le', 'an', 'pa', 'ck', 'ag', 'es', 'wh', 'ic', 'en', 'co', 'ur', 'ag', 'es', 'pr', 'og', 'ra', 'mo', 'du', 'la', 'ri', 'ty', 'an', 'co', 'de', 're', 'us', 'Th', 'Py', 'th', 'on', 'in', 'te', 'rp', 're', 'te', 'an', 'th', 'ex', 'te', 'ns', 'iv', 'st', 'an', 'da', 'rd', 'li', 'br', 'ar', 'ar', 'av', 'ai', 'la', 'bl', 'in', 'so', 'ur', 'ce', 'or', 'bi', 'na', 'ry', 'fo', 'rm', 'wi', 'th', 'ou', 'ch', 'ar', 'ge', 'fo', 'al', 'ma', 'jo', 'pl', 'at', 'fo', 'rm', 'an', 'ca', 'be', 'fr', 'ee', 'ly', 'di', 'st', 'ri', 'bu', 'te']\n"
     ]
    }
   ],
   "source": [
    "print(re.findall(\"\\w\\w\",text))"
   ]
  },
  {
   "cell_type": "code",
   "execution_count": 32,
   "id": "24bfb539",
   "metadata": {},
   "outputs": [
    {
     "name": "stdout",
     "output_type": "stream",
     "text": [
      "['Pyt', 'hon', 'int', 'erp', 'ret', '123', 'obj', 'ect', 'ori', 'ent', 'hig', 'lev', 'pro', 'gra', 'mmi', 'lan', 'gua', 'wit', 'dyn', 'ami', 'sem', 'ant', 'ics', 'Its', 'hig', 'lev', 'bui', '567', 'dat', 'str', 'uct', 'ure', 'com', 'bin', 'wit', 'dyn', 'ami', 'typ', 'ing', 'and', 'dyn', 'ami', 'bin', 'din', 'mak', 'ver', 'att', 'rac', 'tiv', 'for', 'Rap', 'App', 'lic', 'ati', 'Dev', 'elo', 'pme', 'wel', 'for', 'use', 'scr', 'ipt', 'ing', 'glu', 'lan', 'gua', 'con', 'nec', 'exi', 'sti', 'com', 'pon', 'ent', 'tog', 'eth', 'Pyt', 'hon', 'sim', 'ple', 'eas', 'lea', 'syn', 'tax', 'emp', 'has', 'ize', 'rea', 'dab', 'ili', 'and', 'the', 'ref', 'ore', 'red', 'uce', 'the', 'cos', 'pro', 'gra', 'mai', 'nte', 'nan', 'Pyt', 'hon', 'sup', 'por', 'mod', 'ule', 'and', 'pac', 'kag', 'whi', 'enc', 'our', 'age', 'pro', 'gra', 'mod', 'ula', 'rit', 'and', 'cod', 'reu', 'The', 'Pyt', 'hon', 'int', 'erp', 'ret', 'and', 'the', 'ext', 'ens', 'ive', 'sta', 'nda', 'lib', 'rar', 'are', 'ava', 'ila', 'ble', 'sou', 'rce', 'bin', 'ary', 'for', 'wit', 'hou', 'cha', 'rge', 'for', 'all', 'maj', 'pla', 'tfo', 'rms', 'and', 'can', 'fre', 'ely', 'dis', 'tri', 'but']\n"
     ]
    }
   ],
   "source": [
    "print(re.findall(\"\\w\\w\\w\",text))"
   ]
  },
  {
   "cell_type": "code",
   "execution_count": 33,
   "id": "98e642f4",
   "metadata": {},
   "outputs": [
    {
     "name": "stdout",
     "output_type": "stream",
     "text": [
      "['Python', 'is', 'an', 'interpreted', '1234', 'object', 'oriented', 'high', 'level', 'programming', 'language', 'with', 'dynamic', 'semantics', 'Its', 'high', 'level', 'built', 'in', '5678', 'data', 'structures', 'combined', 'with', 'dynamic', 'typing', 'and', 'dynamic', 'binding', 'make', 'it', 'very', 'attractive', 'for', 'Rapid', 'Application', 'Development', 'as', 'well', 'as', 'for', 'use', 'as', 'a', 'scripting', 'or', 'glue', 'language', 'to', 'connect', 'existing', 'components', 'together', 'Python', 's', 'simple', 'easy', 'to', 'learn', 'syntax', 'emphasizes', 'readability', 'and', 'therefore', 'reduces', 'the', 'cost', 'of', 'program', 'maintenance', 'Python', 'supports', 'modules', 'and', 'packages', 'which', 'encourages', 'program', 'modularity', 'and', 'code', 'reuse', 'The', 'Python', 'interpreter', 'and', 'the', 'extensive', 'standard', 'library', 'are', 'available', 'in', 'source', 'or', 'binary', 'form', 'without', 'charge', 'for', 'all', 'major', 'platforms', 'and', 'can', 'be', 'freely', 'distributed']\n"
     ]
    }
   ],
   "source": [
    "# converting paragraph into words\n",
    "print(re.findall(\"\\w+\",text))"
   ]
  },
  {
   "cell_type": "code",
   "execution_count": 26,
   "id": "11897723",
   "metadata": {},
   "outputs": [
    {
     "name": "stdout",
     "output_type": "stream",
     "text": [
      "['Python', '', 'is', '', 'an', '', 'interpreted', '', '', 'object', '', 'oriented', '', '', 'high', '', 'level', '', 'programming', '', 'language', '', 'with', '', '', 'dynamic', '', 'semantics', '', '', 'Its', '', 'high', '', 'level', '', 'built', '', 'in', '', 'data', '', 'structures', '', '', 'combined', '', 'with', '', 'dynamic', '', 'typing', '', 'and', '', '', 'dynamic', '', 'binding', '', '', 'make', '', 'it', '', 'very', '', 'attractive', '', 'for', '', 'Rapid', '', 'Application', '', 'Development', '', '', 'as', '', 'well', '', 'as', '', 'for', '', 'use', '', '', 'as', '', 'a', '', 'scripting', '', 'or', '', 'glue', '', 'language', '', 'to', '', 'connect', '', 'existing', '', 'components', '', 'together', '', '', 'Python', '', 's', '', 'simple', '', '', 'easy', '', '', 'to', '', 'learn', '', 'syntax', '', 'emphasizes', '', 'readability', '', 'and', '', 'therefore', '', 'reduces', '', 'the', '', 'cost', '', 'of', '', 'program', '', 'maintenance', '', '', '', 'Python', '', 'supports', '', 'modules', '', 'and', '', 'packages', '', '', 'which', '', 'encourages', '', 'program', '', 'modularity', '', 'and', '', 'code', '', 'reuse', '', '', 'The', '', '', 'Python', '', 'interpreter', '', 'and', '', 'the', '', 'extensive', '', 'standard', '', 'library', '', 'are', '', 'available', '', 'in', '', 'source', '', 'or', '', 'binary', '', 'form', '', '', 'without', '', 'charge', '', 'for', '', 'all', '', 'major', '', 'platforms', '', '', 'and', '', 'can', '', 'be', '', 'freely', '', 'distributed', '', '']\n"
     ]
    }
   ],
   "source": [
    "print(re.findall(\"\\w*\",text))"
   ]
  },
  {
   "cell_type": "code",
   "execution_count": 34,
   "id": "c1daf6af",
   "metadata": {},
   "outputs": [
    {
     "name": "stdout",
     "output_type": "stream",
     "text": [
      "['1', '2', '3', '4', '5', '6', '7', '8']\n"
     ]
    }
   ],
   "source": [
    "print(re.findall(\"\\d\",text))"
   ]
  },
  {
   "cell_type": "code",
   "execution_count": 35,
   "id": "41242f17",
   "metadata": {},
   "outputs": [
    {
     "name": "stdout",
     "output_type": "stream",
     "text": [
      "['1234', '5678']\n"
     ]
    }
   ],
   "source": [
    "print(re.findall(\"\\d+\",text))"
   ]
  },
  {
   "cell_type": "code",
   "execution_count": 37,
   "id": "04cbd526",
   "metadata": {
    "collapsed": true
   },
   "outputs": [
    {
     "name": "stdout",
     "output_type": "stream",
     "text": [
      "[' ', ' ', ' ', ',', ' ', ' ', '-', ',', ' ', '-', ' ', ' ', ' ', ' ', '\\n', ' ', '.', ' ', ' ', '-', ' ', ' ', ' ', ' ', ' ', ',', ' ', ' ', ' ', ' ', ' ', ' ', '\\n', ' ', ',', ' ', ' ', ' ', ' ', ' ', ' ', ' ', ' ', ',', ' ', ' ', ' ', ' ', ' ', ' ', '\\n', ' ', ' ', ' ', ' ', ' ', ' ', ' ', ' ', ' ', ' ', '.', ' ', \"'\", ' ', ',', ' ', ' ', '\\n', ' ', ' ', ' ', ' ', ' ', ' ', ' ', ' ', ' ', ' ', ' ', ' ', '.', ' ', '\\n', ' ', ' ', ' ', ' ', ',', ' ', ' ', ' ', ' ', ' ', ' ', ' ', '.', ' ', ' ', '\\n', ' ', ' ', ' ', ' ', ' ', ' ', ' ', ' ', ' ', ' ', ' ', ' ', ' ', ' ', '\\n', ' ', ' ', ' ', ' ', ' ', ',', ' ', ' ', ' ', ' ', ' ', '.']\n"
     ]
    }
   ],
   "source": [
    "# special characters\n",
    "print(re.findall(\"\\W\",text))"
   ]
  },
  {
   "cell_type": "markdown",
   "id": "ba29c89b",
   "metadata": {},
   "source": [
    "#### extract the words which are starting with p|P"
   ]
  },
  {
   "cell_type": "code",
   "execution_count": 39,
   "id": "00d132f6",
   "metadata": {},
   "outputs": [
    {
     "name": "stdout",
     "output_type": "stream",
     "text": [
      "Python\n",
      "programming\n",
      "Python's\n",
      "program\n",
      "Python\n",
      "packages,\n",
      "program\n",
      "Python\n",
      "platforms,\n"
     ]
    }
   ],
   "source": [
    "for i in text.split():\n",
    "    if i.startswith('p') or i.startswith('P'):\n",
    "        print(i)"
   ]
  },
  {
   "cell_type": "code",
   "execution_count": 40,
   "id": "8adc244b",
   "metadata": {},
   "outputs": [
    {
     "name": "stdout",
     "output_type": "stream",
     "text": [
      "Python\n",
      "programming\n",
      "Python's\n",
      "program\n",
      "Python\n",
      "packages,\n",
      "program\n",
      "Python\n",
      "platforms,\n"
     ]
    }
   ],
   "source": [
    "for i in text.split():\n",
    "    if i[0] == 'p' or i[0]=='P':\n",
    "        print(i)"
   ]
  },
  {
   "cell_type": "code",
   "execution_count": 41,
   "id": "1c5dd8c5",
   "metadata": {
    "collapsed": true
   },
   "outputs": [
    {
     "data": {
      "text/plain": [
       "['preted',\n",
       " 'programming',\n",
       " 'ping',\n",
       " 'pid',\n",
       " 'pplication',\n",
       " 'pment',\n",
       " 'pting',\n",
       " 'ponents',\n",
       " 'ple',\n",
       " 'phasizes',\n",
       " 'program',\n",
       " 'pports',\n",
       " 'packages',\n",
       " 'program',\n",
       " 'preter',\n",
       " 'platforms']"
      ]
     },
     "execution_count": 41,
     "metadata": {},
     "output_type": "execute_result"
    }
   ],
   "source": [
    "re.findall(\"p\\w+\",text)"
   ]
  },
  {
   "cell_type": "code",
   "execution_count": 42,
   "id": "d9a93d68",
   "metadata": {},
   "outputs": [
    {
     "data": {
      "text/plain": [
       "['programming', 'program', 'packages', 'program', 'platforms']"
      ]
     },
     "execution_count": 42,
     "metadata": {},
     "output_type": "execute_result"
    }
   ],
   "source": [
    "re.findall(r\"\\bp\\w+\",text)"
   ]
  },
  {
   "cell_type": "code",
   "execution_count": 44,
   "id": "89db5f2f",
   "metadata": {},
   "outputs": [
    {
     "data": {
      "text/plain": [
       "['Python',\n",
       " 'programming',\n",
       " 'Python',\n",
       " 'program',\n",
       " 'Python',\n",
       " 'packages',\n",
       " 'program',\n",
       " 'Python',\n",
       " 'platforms']"
      ]
     },
     "execution_count": 44,
     "metadata": {},
     "output_type": "execute_result"
    }
   ],
   "source": [
    "re.findall(r\"\\b[pP]\\w+\",text)"
   ]
  },
  {
   "cell_type": "code",
   "execution_count": 47,
   "id": "b80e0d28",
   "metadata": {},
   "outputs": [
    {
     "data": {
      "text/plain": [
       "['Python', 'Python', 'Python', 'Python']"
      ]
     },
     "execution_count": 47,
     "metadata": {},
     "output_type": "execute_result"
    }
   ],
   "source": [
    "re.findall(r\"Python\",text)"
   ]
  },
  {
   "cell_type": "markdown",
   "id": "b82f94d6",
   "metadata": {},
   "source": [
    "### extract the words starts with vowel letters"
   ]
  },
  {
   "cell_type": "code",
   "execution_count": 48,
   "id": "1cbe0c29",
   "metadata": {
    "collapsed": true
   },
   "outputs": [
    {
     "data": {
      "text/plain": [
       "['is',\n",
       " 'an',\n",
       " 'interpreted',\n",
       " 'object',\n",
       " 'oriented',\n",
       " 'Its',\n",
       " 'in',\n",
       " 'and',\n",
       " 'it',\n",
       " 'attractive',\n",
       " 'Application',\n",
       " 'as',\n",
       " 'as',\n",
       " 'use',\n",
       " 'as',\n",
       " 'or',\n",
       " 'existing',\n",
       " 'easy',\n",
       " 'emphasizes',\n",
       " 'and',\n",
       " 'of',\n",
       " 'and',\n",
       " 'encourages',\n",
       " 'and',\n",
       " 'interpreter',\n",
       " 'and',\n",
       " 'extensive',\n",
       " 'are',\n",
       " 'available',\n",
       " 'in',\n",
       " 'or',\n",
       " 'all',\n",
       " 'and']"
      ]
     },
     "execution_count": 48,
     "metadata": {},
     "output_type": "execute_result"
    }
   ],
   "source": [
    "re.findall(r\"\\b[aeiouAEIOU]\\w+\",text)"
   ]
  },
  {
   "cell_type": "code",
   "execution_count": 56,
   "id": "a84dabac",
   "metadata": {},
   "outputs": [
    {
     "data": {
      "text/plain": [
       "['Python',\n",
       " 'high',\n",
       " 'level',\n",
       " 'programming',\n",
       " 'language',\n",
       " 'with',\n",
       " 'dynamic',\n",
       " 'semantics',\n",
       " 'high',\n",
       " 'level',\n",
       " 'built',\n",
       " 'data',\n",
       " 'structures',\n",
       " 'combined',\n",
       " 'with',\n",
       " 'dynamic',\n",
       " 'typing',\n",
       " 'dynamic',\n",
       " 'binding',\n",
       " 'make',\n",
       " 'very',\n",
       " 'for',\n",
       " 'Rapid',\n",
       " 'Development',\n",
       " 'well',\n",
       " 'for',\n",
       " 'scripting',\n",
       " 'glue',\n",
       " 'language',\n",
       " 'to',\n",
       " 'connect',\n",
       " 'components',\n",
       " 'together',\n",
       " 'Python',\n",
       " 'simple',\n",
       " 'to',\n",
       " 'learn',\n",
       " 'syntax',\n",
       " 'readability',\n",
       " 'therefore',\n",
       " 'reduces',\n",
       " 'the',\n",
       " 'cost',\n",
       " 'program',\n",
       " 'maintenance',\n",
       " 'Python',\n",
       " 'supports',\n",
       " 'modules',\n",
       " 'packages',\n",
       " 'which',\n",
       " 'program',\n",
       " 'modularity',\n",
       " 'code',\n",
       " 'reuse',\n",
       " 'The',\n",
       " 'Python',\n",
       " 'the',\n",
       " 'standard',\n",
       " 'library',\n",
       " 'source',\n",
       " 'binary',\n",
       " 'form',\n",
       " 'without',\n",
       " 'charge',\n",
       " 'for',\n",
       " 'major',\n",
       " 'platforms',\n",
       " 'can',\n",
       " 'be',\n",
       " 'freely',\n",
       " 'distributed']"
      ]
     },
     "execution_count": 56,
     "metadata": {},
     "output_type": "execute_result"
    }
   ],
   "source": [
    "# Consonents\n",
    "re.findall(r\"\\b[^aeiouAEIOU\\s\\W\\d]\\w+\",text)"
   ]
  },
  {
   "cell_type": "code",
   "execution_count": 58,
   "id": "9ef15c2d",
   "metadata": {
    "collapsed": true
   },
   "outputs": [
    {
     "name": "stdout",
     "output_type": "stream",
     "text": [
      "['P', 'y', 't', 'h', 'o', 'n', 'i', 's', 'a', 'n', 'i', 'n', 't', 'e', 'r', 'p', 'r', 'e', 't', 'e', 'd', 'o', 'b', 'j', 'e', 'c', 't', 'o', 'r', 'i', 'e', 'n', 't', 'e', 'd', 'h', 'i', 'g', 'h', 'l', 'e', 'v', 'e', 'l', 'p', 'r', 'o', 'g', 'r', 'a', 'm', 'm', 'i', 'n', 'g', 'l', 'a', 'n', 'g', 'u', 'a', 'g', 'e', 'w', 'i', 't', 'h', 'd', 'y', 'n', 'a', 'm', 'i', 'c', 's', 'e', 'm', 'a', 'n', 't', 'i', 'c', 's', 'I', 't', 's', 'h', 'i', 'g', 'h', 'l', 'e', 'v', 'e', 'l', 'b', 'u', 'i', 'l', 't', 'i', 'n', 'd', 'a', 't', 'a', 's', 't', 'r', 'u', 'c', 't', 'u', 'r', 'e', 's', 'c', 'o', 'm', 'b', 'i', 'n', 'e', 'd', 'w', 'i', 't', 'h', 'd', 'y', 'n', 'a', 'm', 'i', 'c', 't', 'y', 'p', 'i', 'n', 'g', 'a', 'n', 'd', 'd', 'y', 'n', 'a', 'm', 'i', 'c', 'b', 'i', 'n', 'd', 'i', 'n', 'g', 'm', 'a', 'k', 'e', 'i', 't', 'v', 'e', 'r', 'y', 'a', 't', 't', 'r', 'a', 'c', 't', 'i', 'v', 'e', 'f', 'o', 'r', 'R', 'a', 'p', 'i', 'd', 'A', 'p', 'p', 'l', 'i', 'c', 'a', 't', 'i', 'o', 'n', 'D', 'e', 'v', 'e', 'l', 'o', 'p', 'm', 'e', 'n', 't', 'a', 's', 'w', 'e', 'l', 'l', 'a', 's', 'f', 'o', 'r', 'u', 's', 'e', 'a', 's', 'a', 's', 'c', 'r', 'i', 'p', 't', 'i', 'n', 'g', 'o', 'r', 'g', 'l', 'u', 'e', 'l', 'a', 'n', 'g', 'u', 'a', 'g', 'e', 't', 'o', 'c', 'o', 'n', 'n', 'e', 'c', 't', 'e', 'x', 'i', 's', 't', 'i', 'n', 'g', 'c', 'o', 'm', 'p', 'o', 'n', 'e', 'n', 't', 's', 't', 'o', 'g', 'e', 't', 'h', 'e', 'r', 'P', 'y', 't', 'h', 'o', 'n', 's', 's', 'i', 'm', 'p', 'l', 'e', 'e', 'a', 's', 'y', 't', 'o', 'l', 'e', 'a', 'r', 'n', 's', 'y', 'n', 't', 'a', 'x', 'e', 'm', 'p', 'h', 'a', 's', 'i', 'z', 'e', 's', 'r', 'e', 'a', 'd', 'a', 'b', 'i', 'l', 'i', 't', 'y', 'a', 'n', 'd', 't', 'h', 'e', 'r', 'e', 'f', 'o', 'r', 'e', 'r', 'e', 'd', 'u', 'c', 'e', 's', 't', 'h', 'e', 'c', 'o', 's', 't', 'o', 'f', 'p', 'r', 'o', 'g', 'r', 'a', 'm', 'm', 'a', 'i', 'n', 't', 'e', 'n', 'a', 'n', 'c', 'e', 'P', 'y', 't', 'h', 'o', 'n', 's', 'u', 'p', 'p', 'o', 'r', 't', 's', 'm', 'o', 'd', 'u', 'l', 'e', 's', 'a', 'n', 'd', 'p', 'a', 'c', 'k', 'a', 'g', 'e', 's', 'w', 'h', 'i', 'c', 'h', 'e', 'n', 'c', 'o', 'u', 'r', 'a', 'g', 'e', 's', 'p', 'r', 'o', 'g', 'r', 'a', 'm', 'm', 'o', 'd', 'u', 'l', 'a', 'r', 'i', 't', 'y', 'a', 'n', 'd', 'c', 'o', 'd', 'e', 'r', 'e', 'u', 's', 'e', 'T', 'h', 'e', 'P', 'y', 't', 'h', 'o', 'n', 'i', 'n', 't', 'e', 'r', 'p', 'r', 'e', 't', 'e', 'r', 'a', 'n', 'd', 't', 'h', 'e', 'e', 'x', 't', 'e', 'n', 's', 'i', 'v', 'e', 's', 't', 'a', 'n', 'd', 'a', 'r', 'd', 'l', 'i', 'b', 'r', 'a', 'r', 'y', 'a', 'r', 'e', 'a', 'v', 'a', 'i', 'l', 'a', 'b', 'l', 'e', 'i', 'n', 's', 'o', 'u', 'r', 'c', 'e', 'o', 'r', 'b', 'i', 'n', 'a', 'r', 'y', 'f', 'o', 'r', 'm', 'w', 'i', 't', 'h', 'o', 'u', 't', 'c', 'h', 'a', 'r', 'g', 'e', 'f', 'o', 'r', 'a', 'l', 'l', 'm', 'a', 'j', 'o', 'r', 'p', 'l', 'a', 't', 'f', 'o', 'r', 'm', 's', 'a', 'n', 'd', 'c', 'a', 'n', 'b', 'e', 'f', 'r', 'e', 'e', 'l', 'y', 'd', 'i', 's', 't', 'r', 'i', 'b', 'u', 't', 'e', 'd']\n"
     ]
    }
   ],
   "source": [
    "# extracting only characters\n",
    "print(re.findall(r\"[a-zA-Z]\",text))"
   ]
  },
  {
   "cell_type": "markdown",
   "id": "870ca65f",
   "metadata": {},
   "source": [
    "# Email extraction"
   ]
  },
  {
   "cell_type": "code",
   "execution_count": 70,
   "id": "57e8122d",
   "metadata": {},
   "outputs": [],
   "source": [
    "email = \"My mail id is ram@gmail.com and john@yahoo.com and raghu@innomatics.in\""
   ]
  },
  {
   "cell_type": "markdown",
   "id": "b2cb8fdf",
   "metadata": {},
   "source": [
    "### rules for any mail id\n",
    "- should contain `@`\n",
    "- should contain `.`\n",
    "- should contain domain name and extension"
   ]
  },
  {
   "cell_type": "code",
   "execution_count": 71,
   "id": "1f4acde2",
   "metadata": {},
   "outputs": [
    {
     "data": {
      "text/plain": [
       "['ram@gmail.com', 'john@yahoo.com', 'raghu@innomatics.in']"
      ]
     },
     "execution_count": 71,
     "metadata": {},
     "output_type": "execute_result"
    }
   ],
   "source": [
    "re.findall(\"\\w+@\\w+\\.\\w+\",email)"
   ]
  },
  {
   "cell_type": "code",
   "execution_count": 72,
   "id": "defaad56",
   "metadata": {},
   "outputs": [
    {
     "data": {
      "text/plain": [
       "['gmail', 'yahoo', 'innomatics']"
      ]
     },
     "execution_count": 72,
     "metadata": {},
     "output_type": "execute_result"
    }
   ],
   "source": [
    "# Domains\n",
    "re.findall(\"\\w+@(\\w+)\\.\\w+\",email)"
   ]
  },
  {
   "cell_type": "code",
   "execution_count": 73,
   "id": "ad57fc76",
   "metadata": {},
   "outputs": [
    {
     "data": {
      "text/plain": [
       "['com', 'com', 'in']"
      ]
     },
     "execution_count": 73,
     "metadata": {},
     "output_type": "execute_result"
    }
   ],
   "source": [
    "re.findall(\"\\w+@\\w+\\.(\\w+)\",email)"
   ]
  },
  {
   "cell_type": "code",
   "execution_count": 74,
   "id": "5246a09f",
   "metadata": {},
   "outputs": [
    {
     "data": {
      "text/plain": [
       "['ram', 'john', 'raghu']"
      ]
     },
     "execution_count": 74,
     "metadata": {},
     "output_type": "execute_result"
    }
   ],
   "source": [
    "re.findall(\"(\\w+)@\\w+\\.\\w+\",email)"
   ]
  },
  {
   "cell_type": "code",
   "execution_count": 79,
   "id": "45c66481",
   "metadata": {},
   "outputs": [],
   "source": [
    "a = 1234"
   ]
  },
  {
   "cell_type": "code",
   "execution_count": 80,
   "id": "eda569d7",
   "metadata": {},
   "outputs": [
    {
     "data": {
      "text/plain": [
       "['3']"
      ]
     },
     "execution_count": 80,
     "metadata": {},
     "output_type": "execute_result"
    }
   ],
   "source": [
    "re.findall(\"3\",str(a))"
   ]
  },
  {
   "cell_type": "code",
   "execution_count": null,
   "id": "5d40766c",
   "metadata": {},
   "outputs": [],
   "source": []
  },
  {
   "cell_type": "code",
   "execution_count": null,
   "id": "b0aaf1ee",
   "metadata": {},
   "outputs": [],
   "source": []
  }
 ],
 "metadata": {
  "kernelspec": {
   "display_name": "Python 3 (ipykernel)",
   "language": "python",
   "name": "python3"
  },
  "language_info": {
   "codemirror_mode": {
    "name": "ipython",
    "version": 3
   },
   "file_extension": ".py",
   "mimetype": "text/x-python",
   "name": "python",
   "nbconvert_exporter": "python",
   "pygments_lexer": "ipython3",
   "version": "3.11.5"
  }
 },
 "nbformat": 4,
 "nbformat_minor": 5
}
